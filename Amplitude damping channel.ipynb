{
 "cells": [
  {
   "cell_type": "code",
   "execution_count": 1,
   "id": "d25584d2-3190-4a03-8e64-07e6c9bc099b",
   "metadata": {},
   "outputs": [
    {
     "name": "stderr",
     "output_type": "stream",
     "text": [
      "/tmp/ipykernel_73607/4165708055.py:3: DeprecationWarning: The package qiskit_ibm_provider is being deprecated. Please see https://docs.quantum.ibm.com/api/migration-guides/qiskit-runtime to get instructions on how to migrate to qiskit-ibm-runtime (https://github.com/Qiskit/qiskit-ibm-runtime).\n",
      "  from qiskit_ibm_provider import IBMProvider\n"
     ]
    }
   ],
   "source": [
    "import numpy as np\n",
    "from qiskit import QuantumCircuit, QuantumRegister, ClassicalRegister, IBMQ, execute\n",
    "from qiskit_ibm_provider import IBMProvider\n",
    "import qiskit\n",
    "from qiskit_aer import AerSimulator\n",
    "from qiskit_ibm_runtime import QiskitRuntimeService\n",
    "from QuAwesome import DataManager\n",
    "import qutip\n",
    "from qutip import Qobj\n",
    "from qutip import ptrace"
   ]
  },
  {
   "cell_type": "code",
   "execution_count": 2,
   "id": "102e93f6-dee4-4d9b-b374-93d9acb9ea57",
   "metadata": {},
   "outputs": [],
   "source": [
    "# set up the ibmq account \n",
    "\n",
    "# only exceute once , it will load automatically afterward\n",
    "IBMProvider.save_account(token=\"5e323c289cb41e03e565a0c882fcf8a92d44d7ff175b755a59b982629216c24369583d3311ae92751dc459f5e257f9ee4e2c26e03c738db142ecb296564a87b9\",overwrite=True)\n",
    "provider = IBMProvider()"
   ]
  },
  {
   "cell_type": "code",
   "execution_count": 3,
   "id": "614f27da-b459-4473-a308-bd6937cd0698",
   "metadata": {},
   "outputs": [],
   "source": [
    "\n",
    "import collections\n",
    "from qutip import Qobj\n",
    "\n",
    "cvt = {'0' : 1 , '1' : -1}\n",
    "def get_exp(k , iid):\n",
    "    rs = 1\n",
    "    for idx ,i in enumerate(k[::-1]) :\n",
    "        if idx in iid :\n",
    "            rs = rs\n",
    "        else :\n",
    "            rs = rs * cvt[i]\n",
    "    return rs\n",
    "def calculate_exp(source , iid):\n",
    "    rs = 0\n",
    "    shots = sum([v for v in source.values()])\n",
    "    for k,v in source.items() :\n",
    "        rs += get_exp(k , iid) * (v/shots)\n",
    "    return rs\n",
    "def Tomography(raw_counts) :\n",
    "    # X Y Z\n",
    "    #print(\"======\")\n",
    "    iid = Qobj(np.array([[1, 0], [0, 1]])) # I\n",
    "    pauli = [\n",
    "        Qobj(np.array([[0, 1], [1, 0]])) , # X\n",
    "        Qobj(np.array([[0, -1j], [1j, 0]])) , # Y\n",
    "        Qobj(np.array([[1, 0], [0, -1]])) , # Z\n",
    "        iid # I\n",
    "    ]\n",
    "    name = ['X' ,'Y' ,'Z' , \"I\"]\n",
    "   \n",
    "    rho = qutip.tensor(iid , iid ,iid) # I*I*I\n",
    "    ctrl = [\n",
    "        [0] ,\n",
    "        [0] ,\n",
    "        [0,1]\n",
    "    ]\n",
    "    for ql0 in range(4) :\n",
    "        q0 = ql0\n",
    "        if ql0 ==  3 :\n",
    "            q0 = 2\n",
    "        for ql1 in range(4) :\n",
    "            q1 = ql1\n",
    "            if ql1 == 3 :\n",
    "                q1 = 2\n",
    "            for ql2 in range(4):\n",
    "                q2 = ql2\n",
    "                if ql2 == 3 :\n",
    "                    q2 = 2\n",
    "                pauli_mt  = qutip.tensor(pauli[ql0] , pauli[ql1] , pauli[ql2])\n",
    "                tg = dict(raw_counts[q0][q1][q2])\n",
    "                qiid = [idx for idx ,i in enumerate([ql0 ,ql1 ,ql2]) if i == 3 ]\n",
    "                v = calculate_exp(tg , qiid)\n",
    "                #print(name[ql0] +name[ql1] + name[ql2] , v)\n",
    "                rho += pauli_mt * v\n",
    "                \n",
    "    rho -= qutip.tensor(iid , iid ,iid)\n",
    "    #print(rho.tr())\n",
    "    return rho*0.125"
   ]
  },
  {
   "cell_type": "code",
   "execution_count": 78,
   "id": "3ecbebfd-240d-4e8c-b2dc-1addc7057dd7",
   "metadata": {},
   "outputs": [],
   "source": [
    "iid = Qobj(np.array([[1, 0], [0, 1]])) # I\n",
    "EEE = Qobj(np.array([[0, 0], [0, 1]])) # I\n",
    "GGG = Qobj(np.array([[1, 0], [0, 0]])) # I\n",
    "aaa = qutip.tensor(EEE,GGG) # I*I*I"
   ]
  },
  {
   "cell_type": "code",
   "execution_count": 79,
   "id": "40c1c492-91d4-4a39-b8ed-54d0c2a0471e",
   "metadata": {},
   "outputs": [
    {
     "data": {
      "text/latex": [
       "Quantum object: dims = [[2, 2], [2, 2]], shape = (4, 4), type = oper, isherm = True $ \\\\ \\left(\\begin{matrix}0.0 & 0.0 & 0.0 & 0.0\\\\0.0 & 0.0 & 0.0 & 0.0\\\\0.0 & 0.0 & 1.0 & 0.0\\\\0.0 & 0.0 & 0.0 & 0.0\\\\\\end{matrix}\\right)$"
      ],
      "text/plain": [
       "Quantum object: dims = [[2, 2], [2, 2]], shape = (4, 4), type = oper, isherm = True\n",
       "Qobj data =\n",
       "[[0. 0. 0. 0.]\n",
       " [0. 0. 0. 0.]\n",
       " [0. 0. 1. 0.]\n",
       " [0. 0. 0. 0.]]"
      ]
     },
     "execution_count": 79,
     "metadata": {},
     "output_type": "execute_result"
    }
   ],
   "source": [
    "aaa"
   ]
  },
  {
   "cell_type": "markdown",
   "id": "57e1e398-3178-41f9-8175-c3c53de9ceea",
   "metadata": {},
   "source": [
    "# Quantum Circuit"
   ]
  },
  {
   "cell_type": "code",
   "execution_count": 8,
   "id": "557c1581-69d8-494c-bff6-d4dc49b6588b",
   "metadata": {},
   "outputs": [],
   "source": [
    "# define the physical qubit you wanna use\n",
    "# choose the qubit on the ibmq page\n",
    "# q = [9,62,65] \n",
    "# qMax = max(q) + 1\n",
    "qMax = 3\n",
    "# register the qubit and classical bit\n",
    "Q = QuantumRegister(qMax, name='q')\n",
    "# C = ClassicalRegister(2, name='bell')"
   ]
  },
  {
   "cell_type": "code",
   "execution_count": 9,
   "id": "21a25e20-9a7c-420a-8fe2-9be96e536fa1",
   "metadata": {},
   "outputs": [
    {
     "data": {
      "text/plain": [
       "<qiskit.circuit.instructionset.InstructionSet at 0x7f9288323100>"
      ]
     },
     "execution_count": 9,
     "metadata": {},
     "output_type": "execute_result"
    }
   ],
   "source": [
    "# Generate 3-qubit GHZ state\n",
    "qc = qiskit.QuantumCircuit(Q)\n",
    "qc.h(0)\n",
    "qc.cx(0, (1))\n",
    "\n",
    "qc.barrier(0,1,2)\n",
    "qc.cu(np.pi/2,0,0,0, 1, 2)\n",
    "\n",
    "qc.cx(2,1) "
   ]
  },
  {
   "cell_type": "code",
   "execution_count": 10,
   "id": "160192ac-31a7-4417-bd96-ff4437cf9b59",
   "metadata": {},
   "outputs": [
    {
     "name": "stdout",
     "output_type": "stream",
     "text": [
      "     ┌───┐      ░                      \n",
      "q_0: ┤ H ├──■───░──────────────────────\n",
      "     └───┘┌─┴─┐ ░                 ┌───┐\n",
      "q_1: ─────┤ X ├─░────────■────────┤ X ├\n",
      "          └───┘ ░ ┌──────┴───────┐└─┬─┘\n",
      "q_2: ───────────░─┤ U(π/2,0,0,0) ├──■──\n",
      "                ░ └──────────────┘     \n"
     ]
    }
   ],
   "source": [
    "print(qc)"
   ]
  },
  {
   "cell_type": "code",
   "execution_count": 97,
   "id": "55a23ce6-04db-47f6-9689-dff83492e2b9",
   "metadata": {},
   "outputs": [],
   "source": [
    "# q=[18,19,20]\n",
    "q=[0,1,2]\n",
    "qMax = max(q) + 1\n",
    "Q = QuantumRegister(qMax, name='q')\n",
    "c_bell = ClassicalRegister(3, name='tomography')\n",
    "\n",
    "qcs = []\n",
    "for ql0 in range(3) :\n",
    "    for ql1 in range(3) :\n",
    "        for ql2 in range(3):\n",
    "            qc = QuantumCircuit(Q, c_bell)\n",
    "\n",
    "            qc.h(Q[q[0]])\n",
    "            qc.cx(Q[q[0]], (Q[q[1]]))\n",
    "            # qc.barrier(0,1,2)\n",
    "\n",
    "            qc.cu(np.pi/2,0,0,0,Q[q[1]], Q[q[2]])\n",
    "            # qc.cu(0,0,0,0,Q[q[1]], Q[q[2]])\n",
    "            qc.cx(Q[q[2]], (Q[q[1]]))\n",
    "\n",
    "            \n",
    "\n",
    "            qc.barrier(range(qMax))\n",
    "            # tomography\n",
    "            if ql0 == 0 :     # measure x\n",
    "                qc.h(Q[q[0]])\n",
    "            if ql0 == 1 :     # measure y\n",
    "                qc.sdg(Q[q[0]])\n",
    "                qc.h(Q[q[0]])\n",
    "                \n",
    "            if ql1 == 0 :     # measure x\n",
    "                qc.h(Q[q[1]])\n",
    "            if ql1 == 1 :     # measure y\n",
    "                qc.sdg(Q[q[1]])\n",
    "                qc.h(Q[q[1]])\n",
    "                \n",
    "            if ql2 == 0 :     # measure x\n",
    "                qc.h(Q[q[2]])\n",
    "            if ql2 == 1 :     # measure y\n",
    "                qc.sdg(Q[q[2]])\n",
    "                qc.h(Q[q[2]])\n",
    "            qc.measure([Q[q[0]], Q[q[1]] , Q[q[2]]], [c_bell[0], c_bell[1] , c_bell[2]])\n",
    "            # transpile qc\n",
    "            qcs.append(qc)"
   ]
  },
  {
   "cell_type": "code",
   "execution_count": 98,
   "id": "b894ce8c-f0f4-4d45-8714-de03017eaacd",
   "metadata": {},
   "outputs": [
    {
     "name": "stdout",
     "output_type": "stream",
     "text": [
      "              ┌───┐                           ░  ┌───┐      ┌─┐      \n",
      "         q_0: ┤ H ├──■────────────────────────░──┤ H ├──────┤M├──────\n",
      "              └───┘┌─┴─┐                ┌───┐ ░  ├───┤      └╥┘┌─┐   \n",
      "         q_1: ─────┤ X ├───────■────────┤ X ├─░──┤ H ├───────╫─┤M├───\n",
      "                   └───┘┌──────┴───────┐└─┬─┘ ░ ┌┴───┴┐┌───┐ ║ └╥┘┌─┐\n",
      "         q_2: ──────────┤ U(π/2,0,0,0) ├──■───░─┤ Sdg ├┤ H ├─╫──╫─┤M├\n",
      "                        └──────────────┘      ░ └─────┘└───┘ ║  ║ └╥┘\n",
      "tomography: 3/═══════════════════════════════════════════════╩══╩══╩═\n",
      "                                                             0  1  2 \n"
     ]
    }
   ],
   "source": [
    "print(qcs[1])"
   ]
  },
  {
   "cell_type": "markdown",
   "id": "22b68002-0726-4aab-bd3e-0ce11df66ef9",
   "metadata": {},
   "source": [
    "# Local Simulation"
   ]
  },
  {
   "cell_type": "code",
   "execution_count": 99,
   "id": "9e0ad94a-4aa7-480d-9f45-e75f91de9a8c",
   "metadata": {},
   "outputs": [],
   "source": [
    "\n",
    "# Construct an ideal simulator\n",
    "aersim = AerSimulator(shots=10000)\n",
    "\n",
    "# Perform an ideal simulation\n",
    "result_ideal = aersim.run(qcs).result()\n",
    "# counts_ideal = result_ideal.get_state()\n",
    "# print('Counts(ideal):', counts_ideal)\n",
    "# Counts(ideal): {'000': 493, '111': 531}\n",
    "\n",
    "# Counts(noise): {'101': 16, '110': 48, '100': 7, '001': 31, '010': 7, '000': 464, '011': 15, '111': 436}"
   ]
  },
  {
   "cell_type": "code",
   "execution_count": 100,
   "id": "84b399fb-6c07-4e06-8aa8-bb46e62c6ffc",
   "metadata": {},
   "outputs": [],
   "source": [
    "t = result_ideal.get_counts()\n",
    "shape=(3,3,3)\n",
    "count_list = np.reshape(np.array(t) ,shape)"
   ]
  },
  {
   "cell_type": "code",
   "execution_count": 101,
   "id": "8d8d3ed4-9f35-47e4-b04e-c136d415bfbb",
   "metadata": {},
   "outputs": [
    {
     "data": {
      "text/latex": [
       "Quantum object: dims = [[2, 2], [2, 2]], shape = (4, 4), type = oper, isherm = True $ \\\\ \\left(\\begin{matrix}0.498 & (-0.007+0.002j) & (0.004+0.001j) & (0.350-0.002j)\\\\(-0.007-0.002j) & 0.0 & (-0.002+8.500\\times10^{-04}j) & (-0.001-7.000\\times10^{-04}j)\\\\(0.004-0.001j) & (-0.002-8.500\\times10^{-04}j) & 0.245 & (-1.500\\times10^{-04}-0.002j)\\\\(0.350+0.002j) & (-0.001+7.000\\times10^{-04}j) & (-1.500\\times10^{-04}+0.002j) & 0.257\\\\\\end{matrix}\\right)$"
      ],
      "text/plain": [
       "Quantum object: dims = [[2, 2], [2, 2]], shape = (4, 4), type = oper, isherm = True\n",
       "Qobj data =\n",
       "[[ 4.9800e-01+0.j      -7.3500e-03+0.00215j  3.5500e-03+0.0011j\n",
       "   3.4995e-01-0.00245j]\n",
       " [-7.3500e-03-0.00215j  0.0000e+00+0.j      -2.3500e-03+0.00085j\n",
       "  -1.1500e-03-0.0007j ]\n",
       " [ 3.5500e-03-0.0011j  -2.3500e-03-0.00085j  2.4510e-01+0.j\n",
       "  -1.5000e-04-0.00235j]\n",
       " [ 3.4995e-01+0.00245j -1.1500e-03+0.0007j  -1.5000e-04+0.00235j\n",
       "   2.5690e-01+0.j     ]]"
      ]
     },
     "execution_count": 101,
     "metadata": {},
     "output_type": "execute_result"
    }
   ],
   "source": [
    "ρ=Tomography(count_list)\n",
    "ptrace(ρ,(0,1))"
   ]
  },
  {
   "cell_type": "code",
   "execution_count": 52,
   "id": "286ac54b-f411-4fb8-8e0d-9703843f65d5",
   "metadata": {},
   "outputs": [
    {
     "data": {
      "text/plain": [
       "0.708"
      ]
     },
     "execution_count": 52,
     "metadata": {},
     "output_type": "execute_result"
    }
   ],
   "source": [
    "0.354*2"
   ]
  },
  {
   "cell_type": "markdown",
   "id": "1130f99a-ae2c-46dd-a637-0eab0507b181",
   "metadata": {},
   "source": [
    "# Real device"
   ]
  },
  {
   "cell_type": "code",
   "execution_count": 53,
   "id": "6eb04b5e-070b-4ae2-9a5f-20cc8d750c51",
   "metadata": {},
   "outputs": [
    {
     "data": {
      "text/plain": [
       "[<IBMBackend('ibm_brisbane')>,\n",
       " <IBMBackend('ibm_kyoto')>,\n",
       " <IBMBackend('ibm_osaka')>,\n",
       " <IBMBackend('ibm_sherbrooke')>]"
      ]
     },
     "execution_count": 53,
     "metadata": {},
     "output_type": "execute_result"
    }
   ],
   "source": [
    "provider.backends()"
   ]
  },
  {
   "cell_type": "code",
   "execution_count": 54,
   "id": "3a087f52-5bc2-442f-83dd-a87f9bc51427",
   "metadata": {},
   "outputs": [],
   "source": [
    "# select the machine ; quantum device or local simulator\n",
    "# check out homepage of ibmq for accessible device\n",
    "machine = 'ibm_osaka'\n",
    "backend = provider.get_backend(machine)"
   ]
  },
  {
   "cell_type": "markdown",
   "id": "57eb85bb-fb55-4706-950b-86c6043e5fa5",
   "metadata": {},
   "source": [
    "## Execute"
   ]
  },
  {
   "cell_type": "code",
   "execution_count": 55,
   "id": "a33ae192-b20f-4fab-a66a-8165f9e562a6",
   "metadata": {},
   "outputs": [],
   "source": [
    "shot=10000\n",
    "data = {\n",
    "    'backend': None,\n",
    "    'job_id' : None,\n",
    "    'q_list' : [],\n",
    "    'shots'  : shot,\n",
    "    'Robust' : None,\n",
    "    'Signal' : None,\n",
    "    'assemb' : None,\n",
    "    'counts' : [],\n",
    "    'Memory' : []\n",
    "}\n",
    "DM = DataManager(data)"
   ]
  },
  {
   "cell_type": "code",
   "execution_count": null,
   "id": "5baf375d-06ed-42f7-ad52-35e4bc9f315e",
   "metadata": {},
   "outputs": [],
   "source": []
  },
  {
   "cell_type": "code",
   "execution_count": 56,
   "id": "4887a5f3-b5bc-4c44-944a-a33829ea3981",
   "metadata": {},
   "outputs": [],
   "source": [
    "job = execute(qcs, backend=backend, shots=shot, optimization_level=0, memory=True)"
   ]
  },
  {
   "cell_type": "code",
   "execution_count": 57,
   "id": "f1fdea90-2b73-4890-92c7-12ec49c37de1",
   "metadata": {},
   "outputs": [
    {
     "data": {
      "text/plain": [
       "'csfxpmabm6a000897jn0'"
      ]
     },
     "execution_count": 57,
     "metadata": {},
     "output_type": "execute_result"
    }
   ],
   "source": [
    "\n",
    "DM['job_id'] = job.job_id()\n",
    "DM['job_id']"
   ]
  },
  {
   "cell_type": "code",
   "execution_count": 58,
   "id": "580db0d0-fa24-4132-b22b-2a988dc093ee",
   "metadata": {},
   "outputs": [
    {
     "name": "stdout",
     "output_type": "stream",
     "text": [
      "Save data to 'Amplitude.json' (success)\n"
     ]
    }
   ],
   "source": [
    "FILENAME = \"Amplitude\"\n",
    "DM.save(FILENAME, False)"
   ]
  },
  {
   "cell_type": "code",
   "execution_count": 61,
   "id": "13a69cad-0c6e-4115-b602-5b0b2e29f449",
   "metadata": {},
   "outputs": [
    {
     "data": {
      "text/plain": [
       "<JobStatus.DONE: 'job has successfully run'>"
      ]
     },
     "execution_count": 61,
     "metadata": {},
     "output_type": "execute_result"
    }
   ],
   "source": [
    "job.status()"
   ]
  },
  {
   "cell_type": "markdown",
   "id": "e0f036d2-aada-41fb-98b6-a51142f9e927",
   "metadata": {},
   "source": [
    "# Result"
   ]
  },
  {
   "cell_type": "code",
   "execution_count": 75,
   "id": "a9b9242e-b3cb-4088-a992-7849a6471e0c",
   "metadata": {},
   "outputs": [],
   "source": [
    "result = job.result()\n",
    "DM['counts'] = result.get_counts()\n"
   ]
  },
  {
   "cell_type": "code",
   "execution_count": 76,
   "id": "96039346-b165-48e8-81ff-3ed589398870",
   "metadata": {},
   "outputs": [
    {
     "data": {
      "text/plain": [
       "{'100': 561,\n",
       " '101': 1939,\n",
       " '110': 508,\n",
       " '001': 478,\n",
       " '111': 1931,\n",
       " '010': 1999,\n",
       " '011': 567,\n",
       " '000': 2017}"
      ]
     },
     "execution_count": 76,
     "metadata": {},
     "output_type": "execute_result"
    }
   ],
   "source": [
    "DM['counts'][3]"
   ]
  },
  {
   "cell_type": "code",
   "execution_count": 77,
   "id": "32e6bfc4-fd04-445d-ac16-23415ea0e660",
   "metadata": {},
   "outputs": [
    {
     "data": {
      "text/latex": [
       "Quantum object: dims = [[2, 2], [2, 2]], shape = (4, 4), type = oper, isherm = True $ \\\\ \\left(\\begin{matrix}0.474 & (-0.012+0.050j) & (0.015+0.029j) & (0.284-0.003j)\\\\(-0.012-0.050j) & 0.034 & (0.008-0.009j) & (4.000\\times10^{-04}-0.041j)\\\\(0.015-0.029j) & (0.008+0.009j) & 0.274 & (0.011-0.055j)\\\\(0.284+0.003j) & (4.000\\times10^{-04}+0.041j) & (0.011+0.055j) & 0.218\\\\\\end{matrix}\\right)$"
      ],
      "text/plain": [
       "Quantum object: dims = [[2, 2], [2, 2]], shape = (4, 4), type = oper, isherm = True\n",
       "Qobj data =\n",
       "[[ 4.736e-01+0.j     -1.250e-02+0.0497j  1.490e-02+0.0288j\n",
       "   2.841e-01-0.003j ]\n",
       " [-1.250e-02-0.0497j  3.400e-02+0.j      7.800e-03-0.0087j\n",
       "   4.000e-04-0.0414j]\n",
       " [ 1.490e-02-0.0288j  7.800e-03+0.0087j  2.742e-01+0.j\n",
       "   1.120e-02-0.0552j]\n",
       " [ 2.841e-01+0.003j   4.000e-04+0.0414j  1.120e-02+0.0552j\n",
       "   2.182e-01+0.j    ]]"
      ]
     },
     "execution_count": 77,
     "metadata": {},
     "output_type": "execute_result"
    }
   ],
   "source": [
    "shape=(3,3,3)\n",
    "count_list_real = np.reshape(np.array(DM['counts']) ,shape)\n",
    "\n",
    "ρ=Tomography(count_list_real)\n",
    "ptrace(ρ,(0,1))"
   ]
  },
  {
   "cell_type": "code",
   "execution_count": 80,
   "id": "5caa0cdd-a2ab-4bd1-84a2-23011359974b",
   "metadata": {},
   "outputs": [
    {
     "data": {
      "text/latex": [
       "Quantum object: dims = [[2, 2], [2, 2]], shape = (4, 4), type = oper, isherm = True $ \\\\ \\left(\\begin{matrix}0.947 & (-0.025+0.099j) & (0.030+0.058j) & (0.568-0.006j)\\\\(-0.025-0.099j) & 0.068 & (0.016-0.017j) & (8.000\\times10^{-04}-0.083j)\\\\(0.030-0.058j) & (0.016+0.017j) & 0.548 & (0.022-0.110j)\\\\(0.568+0.006j) & (8.000\\times10^{-04}+0.083j) & (0.022+0.110j) & 0.436\\\\\\end{matrix}\\right)$"
      ],
      "text/plain": [
       "Quantum object: dims = [[2, 2], [2, 2]], shape = (4, 4), type = oper, isherm = True\n",
       "Qobj data =\n",
       "[[ 9.472e-01+0.j     -2.500e-02+0.0994j  2.980e-02+0.0576j\n",
       "   5.682e-01-0.006j ]\n",
       " [-2.500e-02-0.0994j  6.800e-02+0.j      1.560e-02-0.0174j\n",
       "   8.000e-04-0.0828j]\n",
       " [ 2.980e-02-0.0576j  1.560e-02+0.0174j  5.484e-01+0.j\n",
       "   2.240e-02-0.1104j]\n",
       " [ 5.682e-01+0.006j   8.000e-04+0.0828j  2.240e-02+0.1104j\n",
       "   4.364e-01+0.j    ]]"
      ]
     },
     "execution_count": 80,
     "metadata": {},
     "output_type": "execute_result"
    }
   ],
   "source": [
    "ptrace(ρ,(0,1))*2"
   ]
  },
  {
   "cell_type": "code",
   "execution_count": null,
   "id": "3007c64d-bd7f-4e51-8810-d20047eb539b",
   "metadata": {},
   "outputs": [],
   "source": []
  }
 ],
 "metadata": {
  "kernelspec": {
   "display_name": "Quantum",
   "language": "python",
   "name": "quantum"
  },
  "language_info": {
   "codemirror_mode": {
    "name": "ipython",
    "version": 3
   },
   "file_extension": ".py",
   "mimetype": "text/x-python",
   "name": "python",
   "nbconvert_exporter": "python",
   "pygments_lexer": "ipython3",
   "version": "3.11.7"
  }
 },
 "nbformat": 4,
 "nbformat_minor": 5
}
