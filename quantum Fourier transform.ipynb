{
 "cells": [
  {
   "cell_type": "code",
   "execution_count": 176,
   "id": "d25584d2-3190-4a03-8e64-07e6c9bc099b",
   "metadata": {},
   "outputs": [],
   "source": [
    "import numpy as np\n",
    "from qiskit import QuantumCircuit, QuantumRegister, ClassicalRegister, IBMQ, execute\n",
    "from qiskit_ibm_provider import IBMProvider\n",
    "import qiskit\n",
    "from qiskit_aer import AerSimulator\n",
    "from qiskit_ibm_runtime import QiskitRuntimeService\n",
    "from QuAwesome import DataManager\n",
    "import qutip\n",
    "from qutip import Qobj\n",
    "from qutip import ptrace"
   ]
  },
  {
   "cell_type": "code",
   "execution_count": 12,
   "id": "102e93f6-dee4-4d9b-b374-93d9acb9ea57",
   "metadata": {},
   "outputs": [],
   "source": [
    "# set up the ibmq account \n",
    "\n",
    "# only exceute once , it will load automatically afterward\n",
    "token=\"5e323c289cb41e03e565a0c882fcf8a92d44d7ff175b755a59b982629216c24369583d3311ae92751dc459f5e257f9ee4e2c26e03c738db142ecb296564a87b9\"\n",
    "IBMProvider.save_account(token=token,overwrite=True)\n",
    "provider = IBMProvider()"
   ]
  },
  {
   "cell_type": "code",
   "execution_count": 170,
   "id": "614f27da-b459-4473-a308-bd6937cd0698",
   "metadata": {},
   "outputs": [],
   "source": [
    "\n",
    "import collections\n",
    "from qutip import Qobj\n",
    "\n",
    "cvt = {'0' : 1 , '1' : -1}\n",
    "def get_exp(k , iid):\n",
    "    rs = 1\n",
    "    for idx ,i in enumerate(k[::-1]) :\n",
    "        if idx in iid :\n",
    "            rs = rs\n",
    "        else :\n",
    "            rs = rs * cvt[i]\n",
    "    return rs\n",
    "def calculate_exp(source , iid):\n",
    "    rs = 0\n",
    "    shots = sum([v for v in source.values()])\n",
    "    for k,v in source.items() :\n",
    "        rs += get_exp(k , iid) * (v/shots)\n",
    "    return rs\n",
    "def Tomography(raw_counts) :\n",
    "    # X Y Z\n",
    "    #print(\"======\")\n",
    "    iid = Qobj(np.array([[1, 0], [0, 1]])) # I\n",
    "    pauli = [\n",
    "        Qobj(np.array([[0, 1], [1, 0]])) , # X\n",
    "        Qobj(np.array([[0, -1j], [1j, 0]])) , # Y\n",
    "        Qobj(np.array([[1, 0], [0, -1]])) , # Z\n",
    "        iid # I\n",
    "    ]\n",
    "    name = ['X' ,'Y' ,'Z' , \"I\"]\n",
    "   \n",
    "    rho = qutip.tensor(iid , iid ,iid) # I*I*I\n",
    "    ctrl = [\n",
    "        [0] ,\n",
    "        [0] ,\n",
    "        [0,1]\n",
    "    ]\n",
    "    for ql0 in range(4) :\n",
    "        q0 = ql0\n",
    "        if ql0 ==  3 :\n",
    "            q0 = 2\n",
    "        for ql1 in range(4) :\n",
    "            q1 = ql1\n",
    "            if ql1 == 3 :\n",
    "                q1 = 2\n",
    "            for ql2 in range(4):\n",
    "                q2 = ql2\n",
    "                if ql2 == 3 :\n",
    "                    q2 = 2\n",
    "                pauli_mt  = qutip.tensor(pauli[ql0] , pauli[ql1] , pauli[ql2])\n",
    "                tg = dict(raw_counts[q0][q1][q2])\n",
    "                qiid = [idx for idx ,i in enumerate([ql0 ,ql1 ,ql2]) if i == 3 ]\n",
    "                v = calculate_exp(tg , qiid)\n",
    "                #print(name[ql0] +name[ql1] + name[ql2] , v)\n",
    "                rho += pauli_mt * v\n",
    "                \n",
    "    rho -= qutip.tensor(iid , iid ,iid)\n",
    "    #print(rho.tr())\n",
    "    return rho*0.125"
   ]
  },
  {
   "cell_type": "code",
   "execution_count": 350,
   "id": "3ecbebfd-240d-4e8c-b2dc-1addc7057dd7",
   "metadata": {},
   "outputs": [],
   "source": [
    "iid = Qobj(np.array([[1, 0], [0, 1]])) # I\n",
    "EEE = Qobj(np.array([[0, 0], [0, 1]])) # I\n",
    "GGG = Qobj(np.array([[1, 0], [0, 0]])) # I\n",
    "rho = qutip.tensor(EEE,GGG,EEE) # I*I*I"
   ]
  },
  {
   "cell_type": "code",
   "execution_count": 351,
   "id": "40c1c492-91d4-4a39-b8ed-54d0c2a0471e",
   "metadata": {},
   "outputs": [
    {
     "data": {
      "text/latex": [
       "Quantum object: dims = [[2, 2, 2], [2, 2, 2]], shape = (8, 8), type = oper, isherm = True $ \\\\ \\left(\\begin{matrix}0.0 & 0.0 & 0.0 & 0.0 & 0.0 & 0.0 & 0.0 & 0.0\\\\0.0 & 0.0 & 0.0 & 0.0 & 0.0 & 0.0 & 0.0 & 0.0\\\\0.0 & 0.0 & 0.0 & 0.0 & 0.0 & 0.0 & 0.0 & 0.0\\\\0.0 & 0.0 & 0.0 & 0.0 & 0.0 & 0.0 & 0.0 & 0.0\\\\0.0 & 0.0 & 0.0 & 0.0 & 0.0 & 0.0 & 0.0 & 0.0\\\\0.0 & 0.0 & 0.0 & 0.0 & 0.0 & 1.0 & 0.0 & 0.0\\\\0.0 & 0.0 & 0.0 & 0.0 & 0.0 & 0.0 & 0.0 & 0.0\\\\0.0 & 0.0 & 0.0 & 0.0 & 0.0 & 0.0 & 0.0 & 0.0\\\\\\end{matrix}\\right)$"
      ],
      "text/plain": [
       "Quantum object: dims = [[2, 2, 2], [2, 2, 2]], shape = (8, 8), type = oper, isherm = True\n",
       "Qobj data =\n",
       "[[0. 0. 0. 0. 0. 0. 0. 0.]\n",
       " [0. 0. 0. 0. 0. 0. 0. 0.]\n",
       " [0. 0. 0. 0. 0. 0. 0. 0.]\n",
       " [0. 0. 0. 0. 0. 0. 0. 0.]\n",
       " [0. 0. 0. 0. 0. 0. 0. 0.]\n",
       " [0. 0. 0. 0. 0. 1. 0. 0.]\n",
       " [0. 0. 0. 0. 0. 0. 0. 0.]\n",
       " [0. 0. 0. 0. 0. 0. 0. 0.]]"
      ]
     },
     "execution_count": 351,
     "metadata": {},
     "output_type": "execute_result"
    }
   ],
   "source": [
    "rho"
   ]
  },
  {
   "cell_type": "markdown",
   "id": "57e1e398-3178-41f9-8175-c3c53de9ceea",
   "metadata": {},
   "source": [
    "# Quantum Circuit"
   ]
  },
  {
   "cell_type": "code",
   "execution_count": 75,
   "id": "557c1581-69d8-494c-bff6-d4dc49b6588b",
   "metadata": {},
   "outputs": [],
   "source": [
    "# define the physical qubit you wanna use\n",
    "# choose the qubit on the ibmq page\n",
    "# q = [9,62,65] \n",
    "# qMax = max(q) + 1\n",
    "qMax = 3\n",
    "# register the qubit and classical bit\n",
    "Q = QuantumRegister(qMax, name='q')\n",
    "# C = ClassicalRegister(2, name='bell')"
   ]
  },
  {
   "cell_type": "code",
   "execution_count": 336,
   "id": "21a25e20-9a7c-420a-8fe2-9be96e536fa1",
   "metadata": {},
   "outputs": [
    {
     "data": {
      "text/plain": [
       "<qiskit.circuit.instructionset.InstructionSet at 0x7faa9aa38310>"
      ]
     },
     "execution_count": 336,
     "metadata": {},
     "output_type": "execute_result"
    }
   ],
   "source": [
    "# Generate 3-qubit GHZ state\n",
    "qc = qiskit.QuantumCircuit(Q)\n",
    "qc.h(0)\n",
    "qc.cx(0, (1,2))\n",
    "\n",
    "qc.barrier(0,1,2)\n",
    "qc.h(0)\n",
    "qc.cu(0,np.pi/2,0,0,0, 1)\n",
    "qc.cu(0,np.pi/4,0,0,0, 2)\n",
    "qc.h(1)\n",
    "qc.cu(0,np.pi/2,0,0,1, 2)\n",
    "qc.h(2)"
   ]
  },
  {
   "cell_type": "code",
   "execution_count": 338,
   "id": "160192ac-31a7-4417-bd96-ff4437cf9b59",
   "metadata": {},
   "outputs": [
    {
     "name": "stdout",
     "output_type": "stream",
     "text": [
      "     ┌───┐           ░ ┌───┐                                     »\n",
      "q_0: ┤ H ├──■────■───░─┤ H ├───────■───────────────■─────────────»\n",
      "     └───┘┌─┴─┐  │   ░ └───┘┌──────┴───────┐       │        ┌───┐»\n",
      "q_1: ─────┤ X ├──┼───░──────┤ U(0,π/2,0,0) ├───────┼────────┤ H ├»\n",
      "          └───┘┌─┴─┐ ░      └──────────────┘┌──────┴───────┐└───┘»\n",
      "q_2: ──────────┤ X ├─░──────────────────────┤ U(0,π/4,0,0) ├─────»\n",
      "               └───┘ ░                      └──────────────┘     »\n",
      "«                          \n",
      "«q_0: ─────────────────────\n",
      "«                          \n",
      "«q_1: ───────■─────────────\n",
      "«     ┌──────┴───────┐┌───┐\n",
      "«q_2: ┤ U(0,π/2,0,0) ├┤ H ├\n",
      "«     └──────────────┘└───┘\n"
     ]
    }
   ],
   "source": [
    "print(qc)"
   ]
  },
  {
   "cell_type": "code",
   "execution_count": 276,
   "id": "55a23ce6-04db-47f6-9689-dff83492e2b9",
   "metadata": {},
   "outputs": [],
   "source": [
    "# q=[18,19,20]\n",
    "q=[0,1,2]\n",
    "qMax = max(q) + 1\n",
    "Q = QuantumRegister(qMax, name='q')\n",
    "c_bell = ClassicalRegister(3, name='tomography')\n",
    "\n",
    "qcs = []\n",
    "for ql0 in range(3) :\n",
    "    for ql1 in range(3) :\n",
    "        for ql2 in range(3):\n",
    "            qc = QuantumCircuit(Q, c_bell)\n",
    "\n",
    "            qc.h(Q[q[0]])\n",
    "            qc.cx(Q[q[0]], (Q[q[1]],Q[q[2]]))\n",
    "            # qc.barrier(0,1,2)\n",
    "            qc.h(Q[q[0]])\n",
    "            qc.cu(0,np.pi/2,0,0,Q[q[0]], Q[q[1]])\n",
    "            qc.cu(0,np.pi/4,0,0,Q[q[0]], Q[q[2]])\n",
    "            qc.h(Q[q[1]])\n",
    "            qc.cu(0,np.pi/2,0,0,Q[q[1]], Q[q[2]])\n",
    "            qc.h(Q[q[2]])\n",
    "\n",
    "            \n",
    "\n",
    "            qc.barrier(range(qMax))\n",
    "            # tomography\n",
    "            if ql0 == 0 :     # measure x\n",
    "                qc.h(Q[q[0]])\n",
    "            if ql0 == 1 :     # measure y\n",
    "                qc.sdg(Q[q[0]])\n",
    "                qc.h(Q[q[0]])\n",
    "                \n",
    "            if ql1 == 0 :     # measure x\n",
    "                qc.h(Q[q[1]])\n",
    "            if ql1 == 1 :     # measure y\n",
    "                qc.sdg(Q[q[1]])\n",
    "                qc.h(Q[q[1]])\n",
    "                \n",
    "            if ql2 == 0 :     # measure x\n",
    "                qc.h(Q[q[2]])\n",
    "            if ql2 == 1 :     # measure y\n",
    "                qc.sdg(Q[q[2]])\n",
    "                qc.h(Q[q[2]])\n",
    "            qc.measure([Q[q[0]], Q[q[1]] , Q[q[2]]], [c_bell[0], c_bell[1] , c_bell[2]])\n",
    "            # transpile qc\n",
    "            qcs.append(qc)"
   ]
  },
  {
   "cell_type": "code",
   "execution_count": 277,
   "id": "b894ce8c-f0f4-4d45-8714-de03017eaacd",
   "metadata": {},
   "outputs": [
    {
     "name": "stdout",
     "output_type": "stream",
     "text": [
      "              ┌───┐          ┌───┐                                     »\n",
      "         q_0: ┤ H ├──■────■──┤ H ├───────■───────────────■─────────────»\n",
      "              └───┘┌─┴─┐  │  └───┘┌──────┴───────┐       │        ┌───┐»\n",
      "         q_1: ─────┤ X ├──┼───────┤ U(0,π/2,0,0) ├───────┼────────┤ H ├»\n",
      "                   └───┘┌─┴─┐     └──────────────┘┌──────┴───────┐└───┘»\n",
      "         q_2: ──────────┤ X ├─────────────────────┤ U(0,π/4,0,0) ├─────»\n",
      "                        └───┘                     └──────────────┘     »\n",
      "tomography: 3/═════════════════════════════════════════════════════════»\n",
      "                                                                       »\n",
      "«                                    ░  ┌───┐      ┌─┐      \n",
      "«         q_0: ──────────────────────░──┤ H ├──────┤M├──────\n",
      "«                                    ░  ├───┤      └╥┘┌─┐   \n",
      "«         q_1: ───────■──────────────░──┤ H ├───────╫─┤M├───\n",
      "«              ┌──────┴───────┐┌───┐ ░ ┌┴───┴┐┌───┐ ║ └╥┘┌─┐\n",
      "«         q_2: ┤ U(0,π/2,0,0) ├┤ H ├─░─┤ Sdg ├┤ H ├─╫──╫─┤M├\n",
      "«              └──────────────┘└───┘ ░ └─────┘└───┘ ║  ║ └╥┘\n",
      "«tomography: 3/═════════════════════════════════════╩══╩══╩═\n",
      "«                                                   0  1  2 \n"
     ]
    }
   ],
   "source": [
    "print(qcs[1])"
   ]
  },
  {
   "cell_type": "markdown",
   "id": "22b68002-0726-4aab-bd3e-0ce11df66ef9",
   "metadata": {},
   "source": [
    "# Local Simulation"
   ]
  },
  {
   "cell_type": "code",
   "execution_count": 278,
   "id": "9e0ad94a-4aa7-480d-9f45-e75f91de9a8c",
   "metadata": {},
   "outputs": [],
   "source": [
    "\n",
    "# Construct an ideal simulator\n",
    "aersim = AerSimulator(shots=10000)\n",
    "\n",
    "# Perform an ideal simulation\n",
    "result_ideal = aersim.run(qcs).result()\n",
    "# counts_ideal = result_ideal.get_state()\n",
    "# print('Counts(ideal):', counts_ideal)\n",
    "# Counts(ideal): {'000': 493, '111': 531}\n",
    "\n",
    "# Counts(noise): {'101': 16, '110': 48, '100': 7, '001': 31, '010': 7, '000': 464, '011': 15, '111': 436}"
   ]
  },
  {
   "cell_type": "code",
   "execution_count": 279,
   "id": "84b399fb-6c07-4e06-8aa8-bb46e62c6ffc",
   "metadata": {},
   "outputs": [],
   "source": [
    "t = result_ideal.get_counts()\n",
    "shape=(3,3,3)\n",
    "count_list = np.reshape(np.array(t) ,shape)"
   ]
  },
  {
   "cell_type": "code",
   "execution_count": 343,
   "id": "8d8d3ed4-9f35-47e4-b04e-c136d415bfbb",
   "metadata": {},
   "outputs": [
    {
     "data": {
      "text/latex": [
       "Quantum object: dims = [[2, 2, 2], [2, 2, 2]], shape = (8, 8), type = oper, isherm = True $ \\\\ \\left(\\begin{matrix}0.251 & (-3.500\\times10^{-04}+0.003j) & (0.125+0.124j) & (0.129-0.127j) & (0.214+0.082j) & (0.039-0.090j) & (0.040+0.086j) & (0.215-0.089j)\\\\(-3.500\\times10^{-04}-0.003j) & 0.0 & (0.003+0.002j) & (-0.002-0.004j) & (-0.002-0.001j) & (1.000\\times10^{-04}+0.001j) & (-9.750\\times10^{-04}+0.004j) & (0.002+0.004j)\\\\(0.125-0.124j) & (0.003-0.002j) & 0.124 & (0.001-0.131j) & (0.149-0.063j) & (-0.027-0.060j) & (0.062+0.026j) & (0.061-0.150j)\\\\(0.129+0.127j) & (-0.002+0.004j) & (0.001+0.131j) & 0.121 & (0.058+0.152j) & (0.062-0.025j) & (-0.027+0.062j) & (0.151+0.063j)\\\\(0.214-0.082j) & (-0.002+0.001j) & (0.149+0.063j) & (0.058-0.152j) & 0.212 & (0.003-0.088j) & (0.062+0.063j) & (0.149-0.152j)\\\\(0.039+0.090j) & (1.000\\times10^{-04}-0.001j) & (-0.027+0.060j) & (0.062+0.025j) & (0.003+0.088j) & 0.037 & (-0.025+0.026j) & (0.065+0.066j)\\\\(0.040-0.086j) & (-9.750\\times10^{-04}-0.004j) & (0.062-0.026j) & (-0.027-0.062j) & (0.062-0.063j) & (-0.025-0.026j) & 0.042 & (-2.500\\times10^{-04}-0.088j)\\\\(0.215+0.089j) & (0.002-0.004j) & (0.061+0.150j) & (0.151-0.063j) & (0.149+0.152j) & (0.065-0.066j) & (-2.500\\times10^{-04}+0.088j) & 0.212\\\\\\end{matrix}\\right)$"
      ],
      "text/plain": [
       "Quantum object: dims = [[2, 2, 2], [2, 2, 2]], shape = (8, 8), type = oper, isherm = True\n",
       "Qobj data =\n",
       "[[ 2.50900e-01+0.j       -3.50000e-04+0.0032j    1.24750e-01+0.1245j\n",
       "   1.28600e-01-0.126725j  2.14450e-01+0.08245j   3.87250e-02-0.090325j\n",
       "   3.99250e-02+0.08595j   2.15025e-01-0.0888j  ]\n",
       " [-3.50000e-04-0.0032j    0.00000e+00+0.j        3.05000e-03+0.001725j\n",
       "  -1.85000e-03-0.00355j  -2.02500e-03-0.001325j  1.00000e-04+0.0013j\n",
       "  -9.75000e-04+0.00395j   1.92500e-03+0.00385j ]\n",
       " [ 1.24750e-01-0.1245j    3.05000e-03-0.001725j  1.24200e-01+0.j\n",
       "   1.10000e-03-0.1305j    1.49075e-01-0.06325j  -2.65250e-02-0.0605j\n",
       "   6.23000e-02+0.0265j    6.05750e-02-0.150125j]\n",
       " [ 1.28600e-01+0.126725j -1.85000e-03+0.00355j   1.10000e-03+0.1305j\n",
       "   1.21200e-01+0.j        5.84750e-02+0.15245j   6.15750e-02-0.02495j\n",
       "  -2.71750e-02+0.062375j  1.50750e-01+0.06295j ]\n",
       " [ 2.14450e-01-0.08245j  -2.02500e-03+0.001325j  1.49075e-01+0.06325j\n",
       "   5.84750e-02-0.15245j   2.12400e-01+0.j        3.00000e-03-0.0877j\n",
       "   6.19500e-02+0.063j     1.49100e-01-0.151625j]\n",
       " [ 3.87250e-02+0.090325j  1.00000e-04-0.0013j   -2.65250e-02+0.0605j\n",
       "   6.15750e-02+0.02495j   3.00000e-03+0.0877j    3.70000e-02+0.j\n",
       "  -2.50500e-02+0.025825j  6.51500e-02+0.06605j ]\n",
       " [ 3.99250e-02-0.08595j  -9.75000e-04-0.00395j   6.23000e-02-0.0265j\n",
       "  -2.71750e-02-0.062375j  6.19500e-02-0.063j    -2.50500e-02-0.025825j\n",
       "   4.20000e-02+0.j       -2.50000e-04-0.0883j  ]\n",
       " [ 2.15025e-01+0.0888j    1.92500e-03-0.00385j   6.05750e-02+0.150125j\n",
       "   1.50750e-01-0.06295j   1.49100e-01+0.151625j  6.51500e-02-0.06605j\n",
       "  -2.50000e-04+0.0883j    2.12300e-01+0.j      ]]"
      ]
     },
     "execution_count": 343,
     "metadata": {},
     "output_type": "execute_result"
    }
   ],
   "source": [
    "ρ=Tomography(count_list)\n",
    "ρ"
   ]
  },
  {
   "cell_type": "markdown",
   "id": "1130f99a-ae2c-46dd-a637-0eab0507b181",
   "metadata": {},
   "source": [
    "# Real device"
   ]
  },
  {
   "cell_type": "code",
   "execution_count": 281,
   "id": "6eb04b5e-070b-4ae2-9a5f-20cc8d750c51",
   "metadata": {},
   "outputs": [
    {
     "data": {
      "text/plain": [
       "[<IBMBackend('ibm_kyoto')>,\n",
       " <IBMBackend('ibm_osaka')>,\n",
       " <IBMBackend('ibm_sherbrooke')>,\n",
       " <IBMBackend('ibm_brisbane')>]"
      ]
     },
     "execution_count": 281,
     "metadata": {},
     "output_type": "execute_result"
    }
   ],
   "source": [
    "provider.backends()"
   ]
  },
  {
   "cell_type": "code",
   "execution_count": 282,
   "id": "3a087f52-5bc2-442f-83dd-a87f9bc51427",
   "metadata": {},
   "outputs": [],
   "source": [
    "# select the machine ; quantum device or local simulator\n",
    "# check out homepage of ibmq for accessible device\n",
    "machine = 'ibm_osaka'\n",
    "backend = provider.get_backend(machine)"
   ]
  },
  {
   "cell_type": "markdown",
   "id": "57eb85bb-fb55-4706-950b-86c6043e5fa5",
   "metadata": {},
   "source": [
    "## Execute"
   ]
  },
  {
   "cell_type": "code",
   "execution_count": 283,
   "id": "a33ae192-b20f-4fab-a66a-8165f9e562a6",
   "metadata": {},
   "outputs": [],
   "source": [
    "shot=10000\n",
    "data = {\n",
    "    'backend': None,\n",
    "    'job_id' : None,\n",
    "    'q_list' : [],\n",
    "    'shots'  : shot,\n",
    "    'Robust' : None,\n",
    "    'Signal' : None,\n",
    "    'assemb' : None,\n",
    "    'counts' : [],\n",
    "    'Memory' : []\n",
    "}\n",
    "DM = DataManager(data)"
   ]
  },
  {
   "cell_type": "code",
   "execution_count": null,
   "id": "5baf375d-06ed-42f7-ad52-35e4bc9f315e",
   "metadata": {},
   "outputs": [],
   "source": []
  },
  {
   "cell_type": "code",
   "execution_count": 284,
   "id": "4887a5f3-b5bc-4c44-944a-a33829ea3981",
   "metadata": {},
   "outputs": [],
   "source": [
    "job = execute(qcs, backend=backend, shots=shot, optimization_level=0, memory=True)"
   ]
  },
  {
   "cell_type": "code",
   "execution_count": 285,
   "id": "f1fdea90-2b73-4890-92c7-12ec49c37de1",
   "metadata": {},
   "outputs": [
    {
     "data": {
      "text/plain": [
       "'csevcmjdape000862xz0'"
      ]
     },
     "execution_count": 285,
     "metadata": {},
     "output_type": "execute_result"
    }
   ],
   "source": [
    "\n",
    "DM['job_id'] = job.job_id()\n",
    "DM['job_id']"
   ]
  },
  {
   "cell_type": "code",
   "execution_count": 286,
   "id": "580db0d0-fa24-4132-b22b-2a988dc093ee",
   "metadata": {},
   "outputs": [
    {
     "name": "stdout",
     "output_type": "stream",
     "text": [
      "Save data to 'testtest.json' (success)\n"
     ]
    }
   ],
   "source": [
    "FILENAME = \"testtest\"\n",
    "DM.save(FILENAME, False)"
   ]
  },
  {
   "cell_type": "code",
   "execution_count": 292,
   "id": "13a69cad-0c6e-4115-b602-5b0b2e29f449",
   "metadata": {},
   "outputs": [
    {
     "data": {
      "text/plain": [
       "<JobStatus.DONE: 'job has successfully run'>"
      ]
     },
     "execution_count": 292,
     "metadata": {},
     "output_type": "execute_result"
    }
   ],
   "source": [
    "job.status()"
   ]
  },
  {
   "cell_type": "markdown",
   "id": "e0f036d2-aada-41fb-98b6-a51142f9e927",
   "metadata": {},
   "source": [
    "# Result"
   ]
  },
  {
   "cell_type": "code",
   "execution_count": 293,
   "id": "a9b9242e-b3cb-4088-a992-7849a6471e0c",
   "metadata": {},
   "outputs": [],
   "source": [
    "result = job.result()\n",
    "DM['counts'] = result.get_counts()\n"
   ]
  },
  {
   "cell_type": "code",
   "execution_count": 342,
   "id": "96039346-b165-48e8-81ff-3ed589398870",
   "metadata": {},
   "outputs": [
    {
     "data": {
      "text/plain": [
       "{'011': 451,\n",
       " '000': 2288,\n",
       " '010': 1687,\n",
       " '100': 945,\n",
       " '101': 466,\n",
       " '111': 707,\n",
       " '110': 2972,\n",
       " '001': 484}"
      ]
     },
     "execution_count": 342,
     "metadata": {},
     "output_type": "execute_result"
    }
   ],
   "source": [
    "DM['counts'][3]"
   ]
  },
  {
   "cell_type": "code",
   "execution_count": 294,
   "id": "32e6bfc4-fd04-445d-ac16-23415ea0e660",
   "metadata": {},
   "outputs": [
    {
     "data": {
      "text/latex": [
       "Quantum object: dims = [[2, 2, 2], [2, 2, 2]], shape = (8, 8), type = oper, isherm = True $ \\\\ \\left(\\begin{matrix}0.173 & (0.016-0.001j) & (0.070+0.044j) & (0.019-0.045j) & (0.080+0.042j) & (0.023-0.015j) & (0.004+0.047j) & (0.065-0.083j)\\\\(0.016+0.001j) & 0.065 & (0.047-0.032j) & (0.004-0.014j) & (0.034-0.024j) & (0.021+0.003j) & (0.008-0.012j) & (0.022-0.011j)\\\\(0.070-0.044j) & (0.047+0.032j) & 0.165 & (-0.024-0.045j) & (0.088-0.018j) & (-0.009-0.025j) & (0.041+0.031j) & (0.045-0.059j)\\\\(0.019+0.045j) & (0.004+0.014j) & (-0.024+0.045j) & 0.072 & (0.040+0.047j) & (0.027+0.015j) & (-0.007+0.015j) & (0.042+0.044j)\\\\(0.080-0.042j) & (0.034+0.024j) & (0.088+0.018j) & (0.040-0.047j) & 0.190 & (0.003-0.031j) & (0.040+0.045j) & (0.080-0.064j)\\\\(0.023+0.015j) & (0.021-0.003j) & (-0.009+0.025j) & (0.027-0.015j) & (0.003+0.031j) & 0.069 & (0.004-0.005j) & (0.039-0.006j)\\\\(0.004-0.047j) & (0.008+0.012j) & (0.041-0.031j) & (-0.007-0.015j) & (0.040-0.045j) & (0.004+0.005j) & 0.134 & (0.008-0.032j)\\\\(0.065+0.083j) & (0.022+0.011j) & (0.045+0.059j) & (0.042-0.044j) & (0.080+0.064j) & (0.039+0.006j) & (0.008+0.032j) & 0.133\\\\\\end{matrix}\\right)$"
      ],
      "text/plain": [
       "Quantum object: dims = [[2, 2, 2], [2, 2, 2]], shape = (8, 8), type = oper, isherm = True\n",
       "Qobj data =\n",
       "[[ 0.173   +0.j        0.01645 -0.00115j   0.0699  +0.04365j\n",
       "   0.01915 -0.045375j  0.08    +0.0415j    0.023425-0.014575j\n",
       "   0.003725+0.047275j  0.065325-0.083j   ]\n",
       " [ 0.01645 +0.00115j   0.0646  +0.j        0.04695 -0.032325j\n",
       "   0.0041  -0.01375j   0.034175-0.023925j  0.02125 +0.00315j\n",
       "   0.008075-0.0122j    0.021625-0.011075j]\n",
       " [ 0.0699  -0.04365j   0.04695 +0.032325j  0.1647  +0.j\n",
       "  -0.02435 -0.0451j    0.088225-0.018125j -0.009175-0.02455j\n",
       "   0.04095 +0.0305j    0.044975-0.058625j]\n",
       " [ 0.01915 +0.045375j  0.0041  +0.01375j  -0.02435 +0.0451j\n",
       "   0.0724  +0.j        0.040475+0.04705j   0.026925+0.015325j\n",
       "  -0.007375+0.015225j  0.0425  +0.04445j ]\n",
       " [ 0.08    -0.0415j    0.034175+0.023925j  0.088225+0.018125j\n",
       "   0.040475-0.04705j   0.1897  +0.j        0.00275 -0.0306j\n",
       "   0.03955 +0.0446j    0.08035 -0.063825j]\n",
       " [ 0.023425+0.014575j  0.02125 -0.00315j  -0.009175+0.02455j\n",
       "   0.026925-0.015325j  0.00275 +0.0306j    0.0688  +0.j\n",
       "   0.00435 -0.004975j  0.03945 -0.0057j  ]\n",
       " [ 0.003725-0.047275j  0.008075+0.0122j    0.04095 -0.0305j\n",
       "  -0.007375-0.015225j  0.03955 -0.0446j    0.00435 +0.004975j\n",
       "   0.134   +0.j        0.00835 -0.03215j ]\n",
       " [ 0.065325+0.083j     0.021625+0.011075j  0.044975+0.058625j\n",
       "   0.0425  -0.04445j   0.08035 +0.063825j  0.03945 +0.0057j\n",
       "   0.00835 +0.03215j   0.1328  +0.j      ]]"
      ]
     },
     "execution_count": 294,
     "metadata": {},
     "output_type": "execute_result"
    }
   ],
   "source": [
    "shape=(3,3,3)\n",
    "count_list_real = np.reshape(np.array(DM['counts']) ,shape)\n",
    "\n",
    "ρ=Tomography(count_list_real)\n",
    "ρ"
   ]
  },
  {
   "cell_type": "code",
   "execution_count": null,
   "id": "5caa0cdd-a2ab-4bd1-84a2-23011359974b",
   "metadata": {},
   "outputs": [],
   "source": []
  }
 ],
 "metadata": {
  "kernelspec": {
   "display_name": "Quantum",
   "language": "python",
   "name": "quantum"
  },
  "language_info": {
   "codemirror_mode": {
    "name": "ipython",
    "version": 3
   },
   "file_extension": ".py",
   "mimetype": "text/x-python",
   "name": "python",
   "nbconvert_exporter": "python",
   "pygments_lexer": "ipython3",
   "version": "3.11.7"
  }
 },
 "nbformat": 4,
 "nbformat_minor": 5
}
